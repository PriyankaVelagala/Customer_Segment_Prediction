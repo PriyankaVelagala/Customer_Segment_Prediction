{
 "cells": [
  {
   "cell_type": "markdown",
   "id": "valid-lecture",
   "metadata": {},
   "source": [
    "##### Umer Muhammad\n",
    "###### Group Assignment - Data Normalization and Cleaning"
   ]
  },
  {
   "cell_type": "markdown",
   "id": "postal-wilderness",
   "metadata": {},
   "source": [
    "### Installs and Imports"
   ]
  },
  {
   "cell_type": "code",
   "execution_count": 1,
   "id": "conscious-cornwall",
   "metadata": {
    "tags": []
   },
   "outputs": [],
   "source": [
    "# I'll move all the ad-hoc imports into this section later..\n",
    "\n",
    "# add the install flags\n",
    "#!pip install openpyxl\n",
    "#!pip install xlrd\n",
    "#!pip install xlsxwriter\n",
    "#!pip install xlwt\n",
    "#"
   ]
  },
  {
   "cell_type": "code",
   "execution_count": 1,
   "id": "numerous-snowboard",
   "metadata": {
    "tags": []
   },
   "outputs": [],
   "source": [
    "#\n",
    "import numpy as np\n",
    "import pandas as pd\n",
    "import matplotlib as mpl\n",
    "import matplotlib.pyplot as plt\n",
    "\n",
    "#\n",
    "import re\n",
    "import time, datetime\n",
    "\n",
    "# warnings\n",
    "import warnings\n",
    "warnings.filterwarnings('ignore')"
   ]
  },
  {
   "cell_type": "markdown",
   "id": "therapeutic-guide",
   "metadata": {},
   "source": [
    "#### Data Load"
   ]
  },
  {
   "cell_type": "code",
   "execution_count": 2,
   "id": "common-texas",
   "metadata": {},
   "outputs": [],
   "source": [
    "retail_original = pd.read_excel('Online Retail.xlsx', dtype={'CustomerID': str,'InvoiceNo': str})"
   ]
  },
  {
   "cell_type": "markdown",
   "id": "junior-finish",
   "metadata": {},
   "source": [
    "#### Globals"
   ]
  },
  {
   "cell_type": "code",
   "execution_count": 3,
   "id": "first-condition",
   "metadata": {},
   "outputs": [],
   "source": [
    "# I'll move all the ad-hoc globals into this section later..\n",
    "#\n",
    "random_state = 0\n",
    "#\n",
    "# countries\n",
    "country_filter = []\n",
    "#country_filter = ['United Kingdom'] #United Kingdom is the country that contributes the most to this dataset. May explore other countries after..\n",
    "#country_filter = ['United Kingdom','Germany','France','EIRE']\n",
    "#\n",
    "# drop/include duplicates\n",
    "drop_duplicates = 1 # set to 0 to include\n",
    "#"
   ]
  },
  {
   "cell_type": "markdown",
   "id": "organized-picking",
   "metadata": {},
   "source": [
    "#### Functions"
   ]
  },
  {
   "cell_type": "code",
   "execution_count": 4,
   "id": "genuine-mainstream",
   "metadata": {},
   "outputs": [],
   "source": [
    "# I'll move all the ad-hoc functions into this section later..\n",
    "# display null counts and % for df\n",
    "def display_info(df):\n",
    "    df_info=pd.DataFrame(df.dtypes).T.rename(index={0:'column type'})\n",
    "    df_info=df_info.append(pd.DataFrame(df.isnull().sum()).T.rename(index={0:'null values (nb)'}))\n",
    "    df_info=df_info.append(pd.DataFrame(df.isnull().sum()/df.shape[0]*100).T.rename(index={0:'null values (%)'}))\n",
    "    display(df_info)\n",
    "    display(df.sample(5, random_state=random_state))\n",
    "    print(df.shape)\n",
    "\n",
    "#"
   ]
  },
  {
   "cell_type": "markdown",
   "id": "surrounded-charm",
   "metadata": {},
   "source": [
    "#### Explore"
   ]
  },
  {
   "cell_type": "code",
   "execution_count": 5,
   "id": "royal-setting",
   "metadata": {},
   "outputs": [
    {
     "data": {
      "text/html": [
       "<div>\n",
       "<style scoped>\n",
       "    .dataframe tbody tr th:only-of-type {\n",
       "        vertical-align: middle;\n",
       "    }\n",
       "\n",
       "    .dataframe tbody tr th {\n",
       "        vertical-align: top;\n",
       "    }\n",
       "\n",
       "    .dataframe thead th {\n",
       "        text-align: right;\n",
       "    }\n",
       "</style>\n",
       "<table border=\"1\" class=\"dataframe\">\n",
       "  <thead>\n",
       "    <tr style=\"text-align: right;\">\n",
       "      <th></th>\n",
       "      <th>InvoiceNo</th>\n",
       "      <th>StockCode</th>\n",
       "      <th>Description</th>\n",
       "      <th>Quantity</th>\n",
       "      <th>InvoiceDate</th>\n",
       "      <th>UnitPrice</th>\n",
       "      <th>CustomerID</th>\n",
       "      <th>Country</th>\n",
       "    </tr>\n",
       "  </thead>\n",
       "  <tbody>\n",
       "    <tr>\n",
       "      <th>column type</th>\n",
       "      <td>object</td>\n",
       "      <td>object</td>\n",
       "      <td>object</td>\n",
       "      <td>int64</td>\n",
       "      <td>datetime64[ns]</td>\n",
       "      <td>float64</td>\n",
       "      <td>object</td>\n",
       "      <td>object</td>\n",
       "    </tr>\n",
       "    <tr>\n",
       "      <th>null values (nb)</th>\n",
       "      <td>0</td>\n",
       "      <td>0</td>\n",
       "      <td>1454</td>\n",
       "      <td>0</td>\n",
       "      <td>0</td>\n",
       "      <td>0</td>\n",
       "      <td>135080</td>\n",
       "      <td>0</td>\n",
       "    </tr>\n",
       "    <tr>\n",
       "      <th>null values (%)</th>\n",
       "      <td>0.0</td>\n",
       "      <td>0.0</td>\n",
       "      <td>0.268311</td>\n",
       "      <td>0.0</td>\n",
       "      <td>0.0</td>\n",
       "      <td>0.0</td>\n",
       "      <td>24.926694</td>\n",
       "      <td>0.0</td>\n",
       "    </tr>\n",
       "  </tbody>\n",
       "</table>\n",
       "</div>"
      ],
      "text/plain": [
       "                 InvoiceNo StockCode Description Quantity     InvoiceDate  \\\n",
       "column type         object    object      object    int64  datetime64[ns]   \n",
       "null values (nb)         0         0        1454        0               0   \n",
       "null values (%)        0.0       0.0    0.268311      0.0             0.0   \n",
       "\n",
       "                 UnitPrice CustomerID Country  \n",
       "column type        float64     object  object  \n",
       "null values (nb)         0     135080       0  \n",
       "null values (%)        0.0  24.926694     0.0  "
      ]
     },
     "metadata": {},
     "output_type": "display_data"
    },
    {
     "data": {
      "text/html": [
       "<div>\n",
       "<style scoped>\n",
       "    .dataframe tbody tr th:only-of-type {\n",
       "        vertical-align: middle;\n",
       "    }\n",
       "\n",
       "    .dataframe tbody tr th {\n",
       "        vertical-align: top;\n",
       "    }\n",
       "\n",
       "    .dataframe thead th {\n",
       "        text-align: right;\n",
       "    }\n",
       "</style>\n",
       "<table border=\"1\" class=\"dataframe\">\n",
       "  <thead>\n",
       "    <tr style=\"text-align: right;\">\n",
       "      <th></th>\n",
       "      <th>InvoiceNo</th>\n",
       "      <th>StockCode</th>\n",
       "      <th>Description</th>\n",
       "      <th>Quantity</th>\n",
       "      <th>InvoiceDate</th>\n",
       "      <th>UnitPrice</th>\n",
       "      <th>CustomerID</th>\n",
       "      <th>Country</th>\n",
       "    </tr>\n",
       "  </thead>\n",
       "  <tbody>\n",
       "    <tr>\n",
       "      <th>387967</th>\n",
       "      <td>570410</td>\n",
       "      <td>22396</td>\n",
       "      <td>MAGNETS PACK OF 4 RETRO PHOTO</td>\n",
       "      <td>1</td>\n",
       "      <td>2011-10-10 13:04:00</td>\n",
       "      <td>0.39</td>\n",
       "      <td>16776</td>\n",
       "      <td>United Kingdom</td>\n",
       "    </tr>\n",
       "    <tr>\n",
       "      <th>510721</th>\n",
       "      <td>579467</td>\n",
       "      <td>23560</td>\n",
       "      <td>SET OF 6 RIBBONS COUNTRY STYLE</td>\n",
       "      <td>6</td>\n",
       "      <td>2011-11-29 14:57:00</td>\n",
       "      <td>2.89</td>\n",
       "      <td>15755</td>\n",
       "      <td>United Kingdom</td>\n",
       "    </tr>\n",
       "    <tr>\n",
       "      <th>416072</th>\n",
       "      <td>572550</td>\n",
       "      <td>23567</td>\n",
       "      <td>EGG CUP HENRIETTA HEN PINK</td>\n",
       "      <td>1</td>\n",
       "      <td>2011-10-24 17:06:00</td>\n",
       "      <td>2.46</td>\n",
       "      <td>NaN</td>\n",
       "      <td>United Kingdom</td>\n",
       "    </tr>\n",
       "    <tr>\n",
       "      <th>437992</th>\n",
       "      <td>574301</td>\n",
       "      <td>20749</td>\n",
       "      <td>ASSORTED COLOUR MINI CASES</td>\n",
       "      <td>4</td>\n",
       "      <td>2011-11-03 16:15:00</td>\n",
       "      <td>7.95</td>\n",
       "      <td>12544</td>\n",
       "      <td>Spain</td>\n",
       "    </tr>\n",
       "    <tr>\n",
       "      <th>166468</th>\n",
       "      <td>550921</td>\n",
       "      <td>21977</td>\n",
       "      <td>PACK OF 60 PINK PAISLEY CAKE CASES</td>\n",
       "      <td>24</td>\n",
       "      <td>2011-04-21 14:21:00</td>\n",
       "      <td>0.55</td>\n",
       "      <td>14770</td>\n",
       "      <td>United Kingdom</td>\n",
       "    </tr>\n",
       "  </tbody>\n",
       "</table>\n",
       "</div>"
      ],
      "text/plain": [
       "       InvoiceNo StockCode                         Description  Quantity  \\\n",
       "387967    570410     22396       MAGNETS PACK OF 4 RETRO PHOTO         1   \n",
       "510721    579467     23560      SET OF 6 RIBBONS COUNTRY STYLE         6   \n",
       "416072    572550     23567          EGG CUP HENRIETTA HEN PINK         1   \n",
       "437992    574301     20749          ASSORTED COLOUR MINI CASES         4   \n",
       "166468    550921     21977  PACK OF 60 PINK PAISLEY CAKE CASES        24   \n",
       "\n",
       "               InvoiceDate  UnitPrice CustomerID         Country  \n",
       "387967 2011-10-10 13:04:00       0.39      16776  United Kingdom  \n",
       "510721 2011-11-29 14:57:00       2.89      15755  United Kingdom  \n",
       "416072 2011-10-24 17:06:00       2.46        NaN  United Kingdom  \n",
       "437992 2011-11-03 16:15:00       7.95      12544           Spain  \n",
       "166468 2011-04-21 14:21:00       0.55      14770  United Kingdom  "
      ]
     },
     "metadata": {},
     "output_type": "display_data"
    },
    {
     "name": "stdout",
     "output_type": "stream",
     "text": [
      "(541909, 8)\n"
     ]
    }
   ],
   "source": [
    "# gives some infos on columns types and numer of null values\n",
    "display_info(retail_original)"
   ]
  },
  {
   "cell_type": "code",
   "execution_count": 6,
   "id": "bored-jewel",
   "metadata": {},
   "outputs": [
    {
     "data": {
      "text/html": [
       "<div>\n",
       "<style scoped>\n",
       "    .dataframe tbody tr th:only-of-type {\n",
       "        vertical-align: middle;\n",
       "    }\n",
       "\n",
       "    .dataframe tbody tr th {\n",
       "        vertical-align: top;\n",
       "    }\n",
       "\n",
       "    .dataframe thead th {\n",
       "        text-align: right;\n",
       "    }\n",
       "</style>\n",
       "<table border=\"1\" class=\"dataframe\">\n",
       "  <thead>\n",
       "    <tr style=\"text-align: right;\">\n",
       "      <th></th>\n",
       "      <th>InvoiceNo</th>\n",
       "      <th>StockCode</th>\n",
       "      <th>Description</th>\n",
       "      <th>Quantity</th>\n",
       "      <th>InvoiceDate</th>\n",
       "      <th>UnitPrice</th>\n",
       "      <th>CustomerID</th>\n",
       "      <th>Country</th>\n",
       "    </tr>\n",
       "  </thead>\n",
       "  <tbody>\n",
       "    <tr>\n",
       "      <th>column type</th>\n",
       "      <td>object</td>\n",
       "      <td>object</td>\n",
       "      <td>object</td>\n",
       "      <td>int64</td>\n",
       "      <td>datetime64[ns]</td>\n",
       "      <td>float64</td>\n",
       "      <td>object</td>\n",
       "      <td>object</td>\n",
       "    </tr>\n",
       "    <tr>\n",
       "      <th>null values (nb)</th>\n",
       "      <td>0</td>\n",
       "      <td>0</td>\n",
       "      <td>0</td>\n",
       "      <td>0</td>\n",
       "      <td>0</td>\n",
       "      <td>0</td>\n",
       "      <td>0</td>\n",
       "      <td>0</td>\n",
       "    </tr>\n",
       "    <tr>\n",
       "      <th>null values (%)</th>\n",
       "      <td>0.0</td>\n",
       "      <td>0.0</td>\n",
       "      <td>0.0</td>\n",
       "      <td>0.0</td>\n",
       "      <td>0.0</td>\n",
       "      <td>0.0</td>\n",
       "      <td>0.0</td>\n",
       "      <td>0.0</td>\n",
       "    </tr>\n",
       "  </tbody>\n",
       "</table>\n",
       "</div>"
      ],
      "text/plain": [
       "                 InvoiceNo StockCode Description Quantity     InvoiceDate  \\\n",
       "column type         object    object      object    int64  datetime64[ns]   \n",
       "null values (nb)         0         0           0        0               0   \n",
       "null values (%)        0.0       0.0         0.0      0.0             0.0   \n",
       "\n",
       "                 UnitPrice CustomerID Country  \n",
       "column type        float64     object  object  \n",
       "null values (nb)         0          0       0  \n",
       "null values (%)        0.0        0.0     0.0  "
      ]
     },
     "metadata": {},
     "output_type": "display_data"
    },
    {
     "data": {
      "text/html": [
       "<div>\n",
       "<style scoped>\n",
       "    .dataframe tbody tr th:only-of-type {\n",
       "        vertical-align: middle;\n",
       "    }\n",
       "\n",
       "    .dataframe tbody tr th {\n",
       "        vertical-align: top;\n",
       "    }\n",
       "\n",
       "    .dataframe thead th {\n",
       "        text-align: right;\n",
       "    }\n",
       "</style>\n",
       "<table border=\"1\" class=\"dataframe\">\n",
       "  <thead>\n",
       "    <tr style=\"text-align: right;\">\n",
       "      <th></th>\n",
       "      <th>InvoiceNo</th>\n",
       "      <th>StockCode</th>\n",
       "      <th>Description</th>\n",
       "      <th>Quantity</th>\n",
       "      <th>InvoiceDate</th>\n",
       "      <th>UnitPrice</th>\n",
       "      <th>CustomerID</th>\n",
       "      <th>Country</th>\n",
       "    </tr>\n",
       "  </thead>\n",
       "  <tbody>\n",
       "    <tr>\n",
       "      <th>209444</th>\n",
       "      <td>555240</td>\n",
       "      <td>20727</td>\n",
       "      <td>LUNCH BAG  BLACK SKULL.</td>\n",
       "      <td>3</td>\n",
       "      <td>2011-06-01 13:07:00</td>\n",
       "      <td>1.65</td>\n",
       "      <td>15039</td>\n",
       "      <td>United Kingdom</td>\n",
       "    </tr>\n",
       "    <tr>\n",
       "      <th>389683</th>\n",
       "      <td>570488</td>\n",
       "      <td>21739</td>\n",
       "      <td>COSY SLIPPER SHOES SMALL GREEN</td>\n",
       "      <td>2</td>\n",
       "      <td>2011-10-10 17:12:00</td>\n",
       "      <td>2.46</td>\n",
       "      <td>14096</td>\n",
       "      <td>United Kingdom</td>\n",
       "    </tr>\n",
       "    <tr>\n",
       "      <th>184515</th>\n",
       "      <td>552694</td>\n",
       "      <td>22938</td>\n",
       "      <td>CUPCAKE LACE PAPER SET 6</td>\n",
       "      <td>12</td>\n",
       "      <td>2011-05-10 15:25:00</td>\n",
       "      <td>1.95</td>\n",
       "      <td>12749</td>\n",
       "      <td>United Kingdom</td>\n",
       "    </tr>\n",
       "    <tr>\n",
       "      <th>98089</th>\n",
       "      <td>544667</td>\n",
       "      <td>22896</td>\n",
       "      <td>PEG BAG APPLES DESIGN</td>\n",
       "      <td>50</td>\n",
       "      <td>2011-02-22 15:10:00</td>\n",
       "      <td>2.10</td>\n",
       "      <td>17511</td>\n",
       "      <td>United Kingdom</td>\n",
       "    </tr>\n",
       "    <tr>\n",
       "      <th>268149</th>\n",
       "      <td>560392</td>\n",
       "      <td>15034</td>\n",
       "      <td>PAPER POCKET TRAVELING FAN</td>\n",
       "      <td>96</td>\n",
       "      <td>2011-07-18 13:30:00</td>\n",
       "      <td>0.14</td>\n",
       "      <td>13911</td>\n",
       "      <td>United Kingdom</td>\n",
       "    </tr>\n",
       "  </tbody>\n",
       "</table>\n",
       "</div>"
      ],
      "text/plain": [
       "       InvoiceNo StockCode                     Description  Quantity  \\\n",
       "209444    555240     20727         LUNCH BAG  BLACK SKULL.         3   \n",
       "389683    570488     21739  COSY SLIPPER SHOES SMALL GREEN         2   \n",
       "184515    552694     22938        CUPCAKE LACE PAPER SET 6        12   \n",
       "98089     544667     22896           PEG BAG APPLES DESIGN        50   \n",
       "268149    560392     15034     PAPER POCKET TRAVELING FAN         96   \n",
       "\n",
       "               InvoiceDate  UnitPrice CustomerID         Country  \n",
       "209444 2011-06-01 13:07:00       1.65      15039  United Kingdom  \n",
       "389683 2011-10-10 17:12:00       2.46      14096  United Kingdom  \n",
       "184515 2011-05-10 15:25:00       1.95      12749  United Kingdom  \n",
       "98089  2011-02-22 15:10:00       2.10      17511  United Kingdom  \n",
       "268149 2011-07-18 13:30:00       0.14      13911  United Kingdom  "
      ]
     },
     "metadata": {},
     "output_type": "display_data"
    },
    {
     "name": "stdout",
     "output_type": "stream",
     "text": [
      "(406829, 8)\n"
     ]
    }
   ],
   "source": [
    "# better to drop na here, its a rabbit hole to impute the null values\n",
    "retail_original.dropna(inplace=True)\n",
    "display_info(retail_original)"
   ]
  },
  {
   "cell_type": "code",
   "execution_count": 7,
   "id": "great-dispute",
   "metadata": {},
   "outputs": [
    {
     "name": "stdout",
     "output_type": "stream",
     "text": [
      "United Kingdom    361878\n",
      "Germany             9495\n",
      "France              8491\n",
      "EIRE                7485\n",
      "Spain               2533\n",
      "Netherlands         2371\n",
      "Belgium             2069\n",
      "Switzerland         1877\n",
      "Portugal            1480\n",
      "Australia           1259\n",
      "Name: Country, dtype: int64\n"
     ]
    },
    {
     "data": {
      "text/plain": [
       "<AxesSubplot:title={'center':'Top 10 Countries'}>"
      ]
     },
     "execution_count": 7,
     "metadata": {},
     "output_type": "execute_result"
    },
    {
     "data": {
      "image/png": "[encoded data removed]",
      "text/plain": [
       "<Figure size 432x288 with 1 Axes>"
      ]
     },
     "metadata": {
      "needs_background": "light"
     },
     "output_type": "display_data"
    }
   ],
   "source": [
    "# ..let's explore data further\n",
    "#print(retail_original.Country.unique())\n",
    "print(retail_original.Country.value_counts()[:10])\n",
    "retail_original.Country.value_counts()[:10].plot(kind='barh', color = 'b', title='Top 10 Countries')"
   ]
  },
  {
   "cell_type": "code",
   "execution_count": 8,
   "id": "paperback-accident",
   "metadata": {},
   "outputs": [
    {
     "name": "stdout",
     "output_type": "stream",
     "text": [
      "United Kingdom    19857\n",
      "Germany             603\n",
      "France              458\n",
      "EIRE                319\n",
      "Belgium             119\n",
      "Spain               105\n",
      "Netherlands         101\n",
      "Switzerland          71\n",
      "Portugal             70\n",
      "Australia            69\n",
      "Name: Country, dtype: int64\n"
     ]
    },
    {
     "data": {
      "text/plain": [
       "<AxesSubplot:title={'center':'Top 10 Countries by InvoiceNo'}>"
      ]
     },
     "execution_count": 8,
     "metadata": {},
     "output_type": "execute_result"
    },
    {
     "data": {
      "image/png": "[encoded data removed]",
      "text/plain": [
       "<Figure size 432x288 with 1 Axes>"
      ]
     },
     "metadata": {
      "needs_background": "light"
     },
     "output_type": "display_data"
    }
   ],
   "source": [
    "# Invoice counts by countries..\n",
    "print(retail_original.drop_duplicates(subset=['Country','InvoiceNo']).Country.value_counts()[:10])\n",
    "retail_original.drop_duplicates(subset=['Country','InvoiceNo']).Country.value_counts()[:10].plot(kind='barh', color = 'b', title='Top 10 Countries by InvoiceNo')"
   ]
  },
  {
   "cell_type": "markdown",
   "id": "resistant-sleeping",
   "metadata": {},
   "source": [
    "#### FILTERS"
   ]
  },
  {
   "cell_type": "code",
   "execution_count": 9,
   "id": "chinese-white",
   "metadata": {
    "tags": []
   },
   "outputs": [
    {
     "name": "stdout",
     "output_type": "stream",
     "text": [
      "Countries filtered: []\n",
      "Possible duplicates: 5225\n"
     ]
    }
   ],
   "source": [
    "# Show selected countries\n",
    "print('Countries filtered: {}'.format(country_filter))\n",
    "\n",
    "## Apply filters\n",
    "# countries\n",
    "if len(country_filter) > 0:\n",
    "    retail_norm = retail_original.loc[retail_original['Country'].isin(country_filter)]\n",
    "else:\n",
    "    retail_norm = retail_original.copy()\n",
    "    \n",
    "# how many duplicate values? should we drop them from a transactional system or no?\n",
    "print('Possible duplicates: {}'.format(retail_norm.duplicated().sum()))\n",
    "\n",
    "# duplicates\n",
    "if drop_duplicates == 1:\n",
    "    retail_norm = retail_norm.drop_duplicates()\n",
    "else:\n",
    "    retail_norm = retail_norm.copy()"
   ]
  },
  {
   "cell_type": "code",
   "execution_count": 10,
   "id": "understood-woman",
   "metadata": {
    "tags": []
   },
   "outputs": [
    {
     "data": {
      "text/html": [
       "<div>\n",
       "<style scoped>\n",
       "    .dataframe tbody tr th:only-of-type {\n",
       "        vertical-align: middle;\n",
       "    }\n",
       "\n",
       "    .dataframe tbody tr th {\n",
       "        vertical-align: top;\n",
       "    }\n",
       "\n",
       "    .dataframe thead th {\n",
       "        text-align: right;\n",
       "    }\n",
       "</style>\n",
       "<table border=\"1\" class=\"dataframe\">\n",
       "  <thead>\n",
       "    <tr style=\"text-align: right;\">\n",
       "      <th></th>\n",
       "      <th>InvoiceNo</th>\n",
       "      <th>StockCode</th>\n",
       "      <th>Description</th>\n",
       "      <th>Quantity</th>\n",
       "      <th>InvoiceDate</th>\n",
       "      <th>UnitPrice</th>\n",
       "      <th>CustomerID</th>\n",
       "      <th>Country</th>\n",
       "    </tr>\n",
       "  </thead>\n",
       "  <tbody>\n",
       "    <tr>\n",
       "      <th>column type</th>\n",
       "      <td>object</td>\n",
       "      <td>object</td>\n",
       "      <td>object</td>\n",
       "      <td>int64</td>\n",
       "      <td>datetime64[ns]</td>\n",
       "      <td>float64</td>\n",
       "      <td>object</td>\n",
       "      <td>object</td>\n",
       "    </tr>\n",
       "    <tr>\n",
       "      <th>null values (nb)</th>\n",
       "      <td>0</td>\n",
       "      <td>0</td>\n",
       "      <td>0</td>\n",
       "      <td>0</td>\n",
       "      <td>0</td>\n",
       "      <td>0</td>\n",
       "      <td>0</td>\n",
       "      <td>0</td>\n",
       "    </tr>\n",
       "    <tr>\n",
       "      <th>null values (%)</th>\n",
       "      <td>0.0</td>\n",
       "      <td>0.0</td>\n",
       "      <td>0.0</td>\n",
       "      <td>0.0</td>\n",
       "      <td>0.0</td>\n",
       "      <td>0.0</td>\n",
       "      <td>0.0</td>\n",
       "      <td>0.0</td>\n",
       "    </tr>\n",
       "  </tbody>\n",
       "</table>\n",
       "</div>"
      ],
      "text/plain": [
       "                 InvoiceNo StockCode Description Quantity     InvoiceDate  \\\n",
       "column type         object    object      object    int64  datetime64[ns]   \n",
       "null values (nb)         0         0           0        0               0   \n",
       "null values (%)        0.0       0.0         0.0      0.0             0.0   \n",
       "\n",
       "                 UnitPrice CustomerID Country  \n",
       "column type        float64     object  object  \n",
       "null values (nb)         0          0       0  \n",
       "null values (%)        0.0        0.0     0.0  "
      ]
     },
     "metadata": {},
     "output_type": "display_data"
    },
    {
     "data": {
      "text/html": [
       "<div>\n",
       "<style scoped>\n",
       "    .dataframe tbody tr th:only-of-type {\n",
       "        vertical-align: middle;\n",
       "    }\n",
       "\n",
       "    .dataframe tbody tr th {\n",
       "        vertical-align: top;\n",
       "    }\n",
       "\n",
       "    .dataframe thead th {\n",
       "        text-align: right;\n",
       "    }\n",
       "</style>\n",
       "<table border=\"1\" class=\"dataframe\">\n",
       "  <thead>\n",
       "    <tr style=\"text-align: right;\">\n",
       "      <th></th>\n",
       "      <th>InvoiceNo</th>\n",
       "      <th>StockCode</th>\n",
       "      <th>Description</th>\n",
       "      <th>Quantity</th>\n",
       "      <th>InvoiceDate</th>\n",
       "      <th>UnitPrice</th>\n",
       "      <th>CustomerID</th>\n",
       "      <th>Country</th>\n",
       "    </tr>\n",
       "  </thead>\n",
       "  <tbody>\n",
       "    <tr>\n",
       "      <th>512818</th>\n",
       "      <td>579516</td>\n",
       "      <td>22326</td>\n",
       "      <td>ROUND SNACK BOXES SET OF4 WOODLAND</td>\n",
       "      <td>1</td>\n",
       "      <td>2011-11-29 17:52:00</td>\n",
       "      <td>2.95</td>\n",
       "      <td>17841</td>\n",
       "      <td>United Kingdom</td>\n",
       "    </tr>\n",
       "    <tr>\n",
       "      <th>266107</th>\n",
       "      <td>560244</td>\n",
       "      <td>82581</td>\n",
       "      <td>TOILET METAL SIGN</td>\n",
       "      <td>3</td>\n",
       "      <td>2011-07-17 12:14:00</td>\n",
       "      <td>0.55</td>\n",
       "      <td>16931</td>\n",
       "      <td>United Kingdom</td>\n",
       "    </tr>\n",
       "    <tr>\n",
       "      <th>419372</th>\n",
       "      <td>572772</td>\n",
       "      <td>23313</td>\n",
       "      <td>VINTAGE CHRISTMAS BUNTING</td>\n",
       "      <td>5</td>\n",
       "      <td>2011-10-26 10:29:00</td>\n",
       "      <td>4.95</td>\n",
       "      <td>17511</td>\n",
       "      <td>United Kingdom</td>\n",
       "    </tr>\n",
       "    <tr>\n",
       "      <th>387383</th>\n",
       "      <td>570287</td>\n",
       "      <td>23247</td>\n",
       "      <td>BISCUIT TIN 50'S CHRISTMAS</td>\n",
       "      <td>6</td>\n",
       "      <td>2011-10-10 11:37:00</td>\n",
       "      <td>2.89</td>\n",
       "      <td>17425</td>\n",
       "      <td>United Kingdom</td>\n",
       "    </tr>\n",
       "    <tr>\n",
       "      <th>506771</th>\n",
       "      <td>579154</td>\n",
       "      <td>21481</td>\n",
       "      <td>FAWN BLUE HOT WATER BOTTLE</td>\n",
       "      <td>2</td>\n",
       "      <td>2011-11-28 13:27:00</td>\n",
       "      <td>3.75</td>\n",
       "      <td>17218</td>\n",
       "      <td>United Kingdom</td>\n",
       "    </tr>\n",
       "  </tbody>\n",
       "</table>\n",
       "</div>"
      ],
      "text/plain": [
       "       InvoiceNo StockCode                          Description  Quantity  \\\n",
       "512818    579516     22326  ROUND SNACK BOXES SET OF4 WOODLAND          1   \n",
       "266107    560244     82581                    TOILET METAL SIGN         3   \n",
       "419372    572772     23313            VINTAGE CHRISTMAS BUNTING         5   \n",
       "387383    570287     23247           BISCUIT TIN 50'S CHRISTMAS         6   \n",
       "506771    579154     21481           FAWN BLUE HOT WATER BOTTLE         2   \n",
       "\n",
       "               InvoiceDate  UnitPrice CustomerID         Country  \n",
       "512818 2011-11-29 17:52:00       2.95      17841  United Kingdom  \n",
       "266107 2011-07-17 12:14:00       0.55      16931  United Kingdom  \n",
       "419372 2011-10-26 10:29:00       4.95      17511  United Kingdom  \n",
       "387383 2011-10-10 11:37:00       2.89      17425  United Kingdom  \n",
       "506771 2011-11-28 13:27:00       3.75      17218  United Kingdom  "
      ]
     },
     "metadata": {},
     "output_type": "display_data"
    },
    {
     "name": "stdout",
     "output_type": "stream",
     "text": [
      "(401604, 8)\n"
     ]
    }
   ],
   "source": [
    "display_info(retail_norm)"
   ]
  },
  {
   "cell_type": "code",
   "execution_count": 11,
   "id": "systematic-institute",
   "metadata": {
    "tags": []
   },
   "outputs": [
    {
     "data": {
      "text/plain": [
       "<AxesSubplot:>"
      ]
     },
     "execution_count": 11,
     "metadata": {},
     "output_type": "execute_result"
    },
    {
     "data": {
      "image/png": "[encoded data removed]",
      "text/plain": [
       "<Figure size 432x288 with 1 Axes>"
      ]
     },
     "metadata": {
      "needs_background": "light"
     },
     "output_type": "display_data"
    }
   ],
   "source": [
    "retail_norm.plot()"
   ]
  },
  {
   "cell_type": "code",
   "execution_count": 12,
   "id": "intense-reset",
   "metadata": {
    "tags": []
   },
   "outputs": [],
   "source": [
    "# looks like the big quantity spikes are fiscal year start and ends maybe."
   ]
  },
  {
   "cell_type": "markdown",
   "id": "streaming-desire",
   "metadata": {},
   "source": [
    "### Normalize data"
   ]
  },
  {
   "cell_type": "markdown",
   "id": "confident-express",
   "metadata": {},
   "source": [
    "#### Inspect Totals"
   ]
  },
  {
   "cell_type": "code",
   "execution_count": 13,
   "id": "silent-genius",
   "metadata": {
    "tags": []
   },
   "outputs": [
    {
     "data": {
      "text/html": [
       "<div>\n",
       "<style scoped>\n",
       "    .dataframe tbody tr th:only-of-type {\n",
       "        vertical-align: middle;\n",
       "    }\n",
       "\n",
       "    .dataframe tbody tr th {\n",
       "        vertical-align: top;\n",
       "    }\n",
       "\n",
       "    .dataframe thead th {\n",
       "        text-align: right;\n",
       "    }\n",
       "</style>\n",
       "<table border=\"1\" class=\"dataframe\">\n",
       "  <thead>\n",
       "    <tr style=\"text-align: right;\">\n",
       "      <th></th>\n",
       "      <th>products</th>\n",
       "      <th>transactions</th>\n",
       "      <th>customers</th>\n",
       "    </tr>\n",
       "  </thead>\n",
       "  <tbody>\n",
       "    <tr>\n",
       "      <th>quantity</th>\n",
       "      <td>3684</td>\n",
       "      <td>22190</td>\n",
       "      <td>4372</td>\n",
       "    </tr>\n",
       "  </tbody>\n",
       "</table>\n",
       "</div>"
      ],
      "text/plain": [
       "          products  transactions  customers\n",
       "quantity      3684         22190       4372"
      ]
     },
     "metadata": {},
     "output_type": "display_data"
    }
   ],
   "source": [
    "# total products/transactions/customers\n",
    "totals_df = pd.DataFrame([{'products': len(retail_norm['StockCode'].value_counts()),\n",
    "                           'transactions': len(retail_norm['InvoiceNo'].value_counts()),\n",
    "                           'customers': len(retail_norm['CustomerID'].value_counts()),}],\n",
    "                         columns = ['products', 'transactions', 'customers'],\n",
    "                         index = ['quantity'])\n",
    "\n",
    "display(totals_df)"
   ]
  },
  {
   "cell_type": "code",
   "execution_count": 14,
   "id": "tutorial-guest",
   "metadata": {
    "tags": []
   },
   "outputs": [
    {
     "data": {
      "text/html": [
       "<div>\n",
       "<style scoped>\n",
       "    .dataframe tbody tr th:only-of-type {\n",
       "        vertical-align: middle;\n",
       "    }\n",
       "\n",
       "    .dataframe tbody tr th {\n",
       "        vertical-align: top;\n",
       "    }\n",
       "\n",
       "    .dataframe thead th {\n",
       "        text-align: right;\n",
       "    }\n",
       "</style>\n",
       "<table border=\"1\" class=\"dataframe\">\n",
       "  <thead>\n",
       "    <tr style=\"text-align: right;\">\n",
       "      <th></th>\n",
       "      <th>CustomerID</th>\n",
       "      <th>InvoiceNo</th>\n",
       "      <th>TotalProducts</th>\n",
       "    </tr>\n",
       "  </thead>\n",
       "  <tbody>\n",
       "    <tr>\n",
       "      <th>7</th>\n",
       "      <td>12347</td>\n",
       "      <td>573511</td>\n",
       "      <td>47</td>\n",
       "    </tr>\n",
       "    <tr>\n",
       "      <th>2</th>\n",
       "      <td>12347</td>\n",
       "      <td>537626</td>\n",
       "      <td>31</td>\n",
       "    </tr>\n",
       "    <tr>\n",
       "      <th>3</th>\n",
       "      <td>12347</td>\n",
       "      <td>542237</td>\n",
       "      <td>29</td>\n",
       "    </tr>\n",
       "    <tr>\n",
       "      <th>4</th>\n",
       "      <td>12347</td>\n",
       "      <td>549222</td>\n",
       "      <td>24</td>\n",
       "    </tr>\n",
       "    <tr>\n",
       "      <th>6</th>\n",
       "      <td>12347</td>\n",
       "      <td>562032</td>\n",
       "      <td>22</td>\n",
       "    </tr>\n",
       "    <tr>\n",
       "      <th>5</th>\n",
       "      <td>12347</td>\n",
       "      <td>556201</td>\n",
       "      <td>18</td>\n",
       "    </tr>\n",
       "    <tr>\n",
       "      <th>9</th>\n",
       "      <td>12348</td>\n",
       "      <td>539318</td>\n",
       "      <td>17</td>\n",
       "    </tr>\n",
       "    <tr>\n",
       "      <th>8</th>\n",
       "      <td>12347</td>\n",
       "      <td>581180</td>\n",
       "      <td>11</td>\n",
       "    </tr>\n",
       "    <tr>\n",
       "      <th>0</th>\n",
       "      <td>12346</td>\n",
       "      <td>541431</td>\n",
       "      <td>1</td>\n",
       "    </tr>\n",
       "    <tr>\n",
       "      <th>1</th>\n",
       "      <td>12346</td>\n",
       "      <td>C541433</td>\n",
       "      <td>1</td>\n",
       "    </tr>\n",
       "  </tbody>\n",
       "</table>\n",
       "</div>"
      ],
      "text/plain": [
       "  CustomerID InvoiceNo  TotalProducts\n",
       "7      12347    573511             47\n",
       "2      12347    537626             31\n",
       "3      12347    542237             29\n",
       "4      12347    549222             24\n",
       "6      12347    562032             22\n",
       "5      12347    556201             18\n",
       "9      12348    539318             17\n",
       "8      12347    581180             11\n",
       "0      12346    541431              1\n",
       "1      12346   C541433              1"
      ]
     },
     "execution_count": 14,
     "metadata": {},
     "output_type": "execute_result"
    }
   ],
   "source": [
    "# Products per invoice\n",
    "tmp = retail_norm.groupby(by=['CustomerID', 'InvoiceNo'], as_index=False)['InvoiceDate'].count()\n",
    "products_per_invoice = tmp.rename(columns = {'InvoiceDate':'TotalProducts'})\n",
    "products_per_invoice[:10].sort_values('TotalProducts', ascending=False)"
   ]
  },
  {
   "cell_type": "markdown",
   "id": "complimentary-budget",
   "metadata": {},
   "source": [
    "#### Flag and strip unwanted records"
   ]
  },
  {
   "cell_type": "markdown",
   "id": "friendly-cambridge",
   "metadata": {},
   "source": [
    "##### Cancelled Orders"
   ]
  },
  {
   "cell_type": "code",
   "execution_count": 15,
   "id": "educated-protest",
   "metadata": {
    "tags": []
   },
   "outputs": [
    {
     "data": {
      "text/html": [
       "<div>\n",
       "<style scoped>\n",
       "    .dataframe tbody tr th:only-of-type {\n",
       "        vertical-align: middle;\n",
       "    }\n",
       "\n",
       "    .dataframe tbody tr th {\n",
       "        vertical-align: top;\n",
       "    }\n",
       "\n",
       "    .dataframe thead th {\n",
       "        text-align: right;\n",
       "    }\n",
       "</style>\n",
       "<table border=\"1\" class=\"dataframe\">\n",
       "  <thead>\n",
       "    <tr style=\"text-align: right;\">\n",
       "      <th></th>\n",
       "      <th>CustomerID</th>\n",
       "      <th>InvoiceNo</th>\n",
       "      <th>TotalProducts</th>\n",
       "      <th>order_cancelled</th>\n",
       "    </tr>\n",
       "  </thead>\n",
       "  <tbody>\n",
       "    <tr>\n",
       "      <th>0</th>\n",
       "      <td>12346</td>\n",
       "      <td>541431</td>\n",
       "      <td>1</td>\n",
       "      <td>0</td>\n",
       "    </tr>\n",
       "    <tr>\n",
       "      <th>1</th>\n",
       "      <td>12346</td>\n",
       "      <td>C541433</td>\n",
       "      <td>1</td>\n",
       "      <td>1</td>\n",
       "    </tr>\n",
       "    <tr>\n",
       "      <th>2</th>\n",
       "      <td>12347</td>\n",
       "      <td>537626</td>\n",
       "      <td>31</td>\n",
       "      <td>0</td>\n",
       "    </tr>\n",
       "    <tr>\n",
       "      <th>3</th>\n",
       "      <td>12347</td>\n",
       "      <td>542237</td>\n",
       "      <td>29</td>\n",
       "      <td>0</td>\n",
       "    </tr>\n",
       "    <tr>\n",
       "      <th>4</th>\n",
       "      <td>12347</td>\n",
       "      <td>549222</td>\n",
       "      <td>24</td>\n",
       "      <td>0</td>\n",
       "    </tr>\n",
       "  </tbody>\n",
       "</table>\n",
       "</div>"
      ],
      "text/plain": [
       "  CustomerID InvoiceNo  TotalProducts  order_cancelled\n",
       "0      12346    541431              1                0\n",
       "1      12346   C541433              1                1\n",
       "2      12347    537626             31                0\n",
       "3      12347    542237             29                0\n",
       "4      12347    549222             24                0"
      ]
     },
     "metadata": {},
     "output_type": "display_data"
    },
    {
     "name": "stdout",
     "output_type": "stream",
     "text": [
      "Number of cancelled orders: 3654/22190 (16.47%) \n"
     ]
    }
   ],
   "source": [
    "# number of cancelled orders\n",
    "products_per_invoice['order_cancelled'] = products_per_invoice['InvoiceNo'].apply(lambda x:int('C' in x))\n",
    "display(products_per_invoice[:5])\n",
    "#\n",
    "n1 = products_per_invoice['order_cancelled'].sum()\n",
    "n2 = products_per_invoice.shape[0]\n",
    "print('Number of cancelled orders: {}/{} ({:.2f}%) '.format(n1, n2, n1/n2*100))"
   ]
  },
  {
   "cell_type": "code",
   "execution_count": 16,
   "id": "received-webmaster",
   "metadata": {
    "tags": []
   },
   "outputs": [
    {
     "name": "stdout",
     "output_type": "stream",
     "text": [
      "CustomerID        14527\n",
      "Quantity             -1\n",
      "StockCode             D\n",
      "Description    Discount\n",
      "UnitPrice          27.5\n",
      "Name: 141, dtype: object\n",
      "-------> HYPOTHESIS NOT FULFILLED\n"
     ]
    }
   ],
   "source": [
    "# validate cancelled orders (negative quantity) vs original order (positive quantity)\n",
    "df_tmp = retail_norm[retail_norm['Quantity'] < 0][['CustomerID','Quantity',\n",
    "                                                   'StockCode','Description','UnitPrice']]\n",
    "for index, col in  df_tmp.iterrows():\n",
    "    if retail_norm[(retail_norm['CustomerID'] == col[0]) & (retail_norm['Quantity'] == -col[1]) \n",
    "                & (retail_norm['Description'] == col[2])].shape[0] == 0: \n",
    "        print(df_tmp.loc[index])\n",
    "        print(7*'-'+'>'+' HYPOTHESIS NOT FULFILLED')\n",
    "        break"
   ]
  },
  {
   "cell_type": "code",
   "execution_count": 17,
   "id": "addressed-title",
   "metadata": {
    "tags": []
   },
   "outputs": [
    {
     "name": "stdout",
     "output_type": "stream",
     "text": [
      "154 CustomerID                               15311\n",
      "Quantity                                    -1\n",
      "StockCode                               35004C\n",
      "Description    SET OF 3 COLOURED  FLYING DUCKS\n",
      "UnitPrice                                 4.65\n",
      "Name: 154, dtype: object\n",
      "-------> HYPOTHESIS NOT FULFILLED\n"
     ]
    }
   ],
   "source": [
    "# validate cancelled orders (negative quantity) vs original order (positive quantity) but ignore discounts\n",
    "df_tmp = retail_norm[(retail_norm['Quantity'] < 0) & (retail_norm['Description'] != 'Discount')][\n",
    "                                 ['CustomerID','Quantity','StockCode',\n",
    "                                  'Description','UnitPrice']]\n",
    "\n",
    "for index, col in  df_tmp.iterrows():\n",
    "    if retail_norm[(retail_norm['CustomerID'] == col[0]) & (retail_norm['Quantity'] == -col[1]) \n",
    "                & (retail_norm['Description'] == col[2])].shape[0] == 0: \n",
    "        print(index, df_tmp.loc[index])\n",
    "        print(7*'-'+'>'+' HYPOTHESIS NOT FULFILLED')\n",
    "        break"
   ]
  },
  {
   "cell_type": "markdown",
   "id": "permanent-architect",
   "metadata": {
    "tags": []
   },
   "source": [
    "##### First find Mismatched Cancelled Orders"
   ]
  },
  {
   "cell_type": "code",
   "execution_count": 18,
   "id": "unable-extension",
   "metadata": {
    "tags": []
   },
   "outputs": [
    {
     "name": "stdout",
     "output_type": "stream",
     "text": [
      "Duration: 0:09:16.377164\n",
      "mismatched_suspect_orders: 5879\n",
      "mismatched_cancelled_orders: 5192\n"
     ]
    }
   ],
   "source": [
    "# first find mismatched cancelled orders, in case we drop them accidentally and can not obtain original order.\n",
    "retail_clean = retail_norm.copy()\n",
    "retail_clean['CancelledQuantity'] = 0\n",
    "#\n",
    "mismatched_cancelled_orders = []; mismatched_suspect_orders = []\n",
    "#\n",
    "start = time.time()\n",
    "for index, row in retail_clean.iterrows():\n",
    "    if ((row['Quantity'] < 0) and (row['Description'] != 'Discount') and re.match('^[a-zA-Z]+', row['InvoiceNo'])):\n",
    "        df_test = retail_clean[(retail_clean['CustomerID'] == row['CustomerID']) &\n",
    "                              (retail_clean['StockCode']  == row['StockCode']) & \n",
    "                              (retail_clean['InvoiceNo'] != row['InvoiceNo']) & \n",
    "                              (retail_clean['InvoiceDate'] < row['InvoiceDate']) & \n",
    "                              (retail_clean['Quantity'] > 0) &\n",
    "                              (abs(retail_clean['Quantity']) == abs(row['Quantity']))].copy()\n",
    "\n",
    "        #\n",
    "        # Cancelation WITHOUT counterpart\n",
    "        if (df_test.shape[0] == 0): \n",
    "            mismatched_suspect_orders.append(index)\n",
    "        #\n",
    "        # Cancelation WITH a counterpart\n",
    "        elif (df_test.shape[0] == 1): \n",
    "            index_order = df_test.index[0]\n",
    "            #retail_clean.loc[index_order, 'CancelledQuantity'] = -row['Quantity']\n",
    "            mismatched_cancelled_orders.append(index)\n",
    "            mismatched_cancelled_orders.append(index_order)\n",
    "        #\n",
    "        # Various counterparts exist in orders: we delete the last one\n",
    "        elif (df_test.shape[0] > 1):\n",
    "            df_test.sort_index(axis=0 ,ascending=False, inplace = True)\n",
    "            for ind, val in df_test.iterrows():\n",
    "                if val['Quantity'] < -row['Quantity']: continue\n",
    "                #retail_clean.loc[ind, 'CancelledQuantity'] = -row['Quantity']\n",
    "                mismatched_cancelled_orders.append(index) \n",
    "                break\n",
    "#\n",
    "end = time.time()\n",
    "print('Duration: {}'.format(datetime.timedelta(seconds = end-start)))\n",
    "print('mismatched_suspect_orders: {}'.format(len(mismatched_suspect_orders)))\n",
    "print('mismatched_cancelled_orders: {}'.format(len(mismatched_cancelled_orders)))"
   ]
  },
  {
   "cell_type": "code",
   "execution_count": 19,
   "id": "genuine-wallace",
   "metadata": {
    "tags": []
   },
   "outputs": [],
   "source": [
    "# drop flagged entries\n",
    "retail_clean.drop(mismatched_cancelled_orders, axis = 0, inplace = True)\n",
    "\n",
    "# we can inspect these after to see if they exist..\n",
    "#retail_clean.drop(mismatched_suspect_orders, axis = 0, inplace = True)"
   ]
  },
  {
   "cell_type": "markdown",
   "id": "extreme-storage",
   "metadata": {
    "tags": []
   },
   "source": [
    "##### Cancelled Orders with Original Orders, and Cancelled Orders without"
   ]
  },
  {
   "cell_type": "code",
   "execution_count": 20,
   "id": "increasing-federation",
   "metadata": {
    "tags": []
   },
   "outputs": [
    {
     "name": "stdout",
     "output_type": "stream",
     "text": [
      "Duration: 0:04:33.559567\n",
      "drop_entry: 4591\n",
      "suspect_entry: 1240\n"
     ]
    }
   ],
   "source": [
    "# flag cancelled orders without original order entry\n",
    "# flag cancelled orders with original order entry\n",
    "#\n",
    "drop_entry = [] ; suspect_entry = []\n",
    "#\n",
    "start = time.time()\n",
    "for index, col in retail_clean.iterrows():\n",
    "    if (col['Quantity'] > 0) or col['Description'] == 'Discount': continue        \n",
    "    df_test = retail_clean[(retail_clean['CustomerID'] == col['CustomerID']) &\n",
    "                         (retail_clean['StockCode']  == col['StockCode']) & \n",
    "                         (retail_clean['InvoiceDate'] < col['InvoiceDate']) & \n",
    "                         (retail_clean['Quantity']   > 0)].copy()\n",
    "    #\n",
    "    # Cancelation WITHOUT counterpart\n",
    "    if (df_test.shape[0] == 0): \n",
    "        suspect_entry.append(index)\n",
    "    #\n",
    "    # Cancelation WITH a counterpart\n",
    "    elif (df_test.shape[0] == 1): \n",
    "        index_order = df_test.index[0]\n",
    "        retail_clean.loc[index_order, 'CancelledQuantity'] = -col['Quantity']\n",
    "        drop_entry.append(index)        \n",
    "    #\n",
    "    # Various counterparts exist in orders: we delete the last one\n",
    "    elif (df_test.shape[0] > 1): \n",
    "        df_test.sort_index(axis=0 ,ascending=False, inplace = True)        \n",
    "        for ind, val in df_test.iterrows():\n",
    "            if val['Quantity'] < -col['Quantity']: continue\n",
    "            retail_clean.loc[ind, 'CancelledQuantity'] = -col['Quantity']\n",
    "            drop_entry.append(index) \n",
    "            break           \n",
    "#\n",
    "end = time.time()\n",
    "print('Duration: {}'.format(datetime.timedelta(seconds = end-start)))\n",
    "print('drop_entry: {}'.format(len(drop_entry)))\n",
    "print('suspect_entry: {}'.format(len(suspect_entry)))"
   ]
  },
  {
   "cell_type": "code",
   "execution_count": 21,
   "id": "flush-stuart",
   "metadata": {
    "tags": []
   },
   "outputs": [],
   "source": [
    "# drop flagged entries\n",
    "retail_clean.drop(drop_entry, axis = 0, inplace = True)\n",
    "retail_clean.drop(suspect_entry, axis = 0, inplace = True)"
   ]
  },
  {
   "cell_type": "markdown",
   "id": "academic-insight",
   "metadata": {
    "tags": []
   },
   "source": [
    "##### Possibly Missed Entries"
   ]
  },
  {
   "cell_type": "code",
   "execution_count": 22,
   "id": "progressive-marina",
   "metadata": {
    "tags": []
   },
   "outputs": [
    {
     "name": "stdout",
     "output_type": "stream",
     "text": [
      "entries to delete: 48\n"
     ]
    },
    {
     "data": {
      "text/html": [
       "<div>\n",
       "<style scoped>\n",
       "    .dataframe tbody tr th:only-of-type {\n",
       "        vertical-align: middle;\n",
       "    }\n",
       "\n",
       "    .dataframe tbody tr th {\n",
       "        vertical-align: top;\n",
       "    }\n",
       "\n",
       "    .dataframe thead th {\n",
       "        text-align: right;\n",
       "    }\n",
       "</style>\n",
       "<table border=\"1\" class=\"dataframe\">\n",
       "  <thead>\n",
       "    <tr style=\"text-align: right;\">\n",
       "      <th></th>\n",
       "      <th>InvoiceNo</th>\n",
       "      <th>StockCode</th>\n",
       "      <th>Description</th>\n",
       "      <th>Quantity</th>\n",
       "      <th>InvoiceDate</th>\n",
       "      <th>UnitPrice</th>\n",
       "      <th>CustomerID</th>\n",
       "      <th>Country</th>\n",
       "      <th>CancelledQuantity</th>\n",
       "    </tr>\n",
       "  </thead>\n",
       "  <tbody>\n",
       "    <tr>\n",
       "      <th>77598</th>\n",
       "      <td>C542742</td>\n",
       "      <td>84535B</td>\n",
       "      <td>FAIRY CAKES NOTEBOOK A6 SIZE</td>\n",
       "      <td>-94</td>\n",
       "      <td>2011-01-31 16:26:00</td>\n",
       "      <td>0.65</td>\n",
       "      <td>15358</td>\n",
       "      <td>United Kingdom</td>\n",
       "      <td>0</td>\n",
       "    </tr>\n",
       "    <tr>\n",
       "      <th>90444</th>\n",
       "      <td>C544038</td>\n",
       "      <td>22784</td>\n",
       "      <td>LANTERN CREAM GAZEBO</td>\n",
       "      <td>-4</td>\n",
       "      <td>2011-02-15 11:32:00</td>\n",
       "      <td>4.95</td>\n",
       "      <td>14659</td>\n",
       "      <td>United Kingdom</td>\n",
       "      <td>0</td>\n",
       "    </tr>\n",
       "    <tr>\n",
       "      <th>111968</th>\n",
       "      <td>C545852</td>\n",
       "      <td>22464</td>\n",
       "      <td>HANGING METAL HEART LANTERN</td>\n",
       "      <td>-5</td>\n",
       "      <td>2011-03-07 13:49:00</td>\n",
       "      <td>1.65</td>\n",
       "      <td>14048</td>\n",
       "      <td>United Kingdom</td>\n",
       "      <td>0</td>\n",
       "    </tr>\n",
       "    <tr>\n",
       "      <th>116064</th>\n",
       "      <td>C546191</td>\n",
       "      <td>47566B</td>\n",
       "      <td>TEA TIME PARTY BUNTING</td>\n",
       "      <td>-35</td>\n",
       "      <td>2011-03-10 10:57:00</td>\n",
       "      <td>0.70</td>\n",
       "      <td>16422</td>\n",
       "      <td>United Kingdom</td>\n",
       "      <td>0</td>\n",
       "    </tr>\n",
       "    <tr>\n",
       "      <th>132642</th>\n",
       "      <td>C547675</td>\n",
       "      <td>22263</td>\n",
       "      <td>FELT EGG COSY LADYBIRD</td>\n",
       "      <td>-49</td>\n",
       "      <td>2011-03-24 14:07:00</td>\n",
       "      <td>0.66</td>\n",
       "      <td>17754</td>\n",
       "      <td>United Kingdom</td>\n",
       "      <td>0</td>\n",
       "    </tr>\n",
       "  </tbody>\n",
       "</table>\n",
       "</div>"
      ],
      "text/plain": [
       "       InvoiceNo StockCode                   Description  Quantity  \\\n",
       "77598    C542742    84535B  FAIRY CAKES NOTEBOOK A6 SIZE       -94   \n",
       "90444    C544038     22784         LANTERN CREAM GAZEBO         -4   \n",
       "111968   C545852     22464   HANGING METAL HEART LANTERN        -5   \n",
       "116064   C546191    47566B        TEA TIME PARTY BUNTING       -35   \n",
       "132642   C547675     22263       FELT EGG COSY LADYBIRD        -49   \n",
       "\n",
       "               InvoiceDate  UnitPrice CustomerID         Country  \\\n",
       "77598  2011-01-31 16:26:00       0.65      15358  United Kingdom   \n",
       "90444  2011-02-15 11:32:00       4.95      14659  United Kingdom   \n",
       "111968 2011-03-07 13:49:00       1.65      14048  United Kingdom   \n",
       "116064 2011-03-10 10:57:00       0.70      16422  United Kingdom   \n",
       "132642 2011-03-24 14:07:00       0.66      17754  United Kingdom   \n",
       "\n",
       "        CancelledQuantity  \n",
       "77598                   0  \n",
       "90444                   0  \n",
       "111968                  0  \n",
       "116064                  0  \n",
       "132642                  0  "
      ]
     },
     "metadata": {},
     "output_type": "display_data"
    }
   ],
   "source": [
    "# check again for cancelled entries that were possibly missed\n",
    "remaining_entries = retail_clean[(retail_clean['Quantity'] < 0) & (retail_clean['StockCode'] != 'D')]\n",
    "print('entries to delete: {}'.format(remaining_entries.shape[0]))\n",
    "\n",
    "#\n",
    "display(remaining_entries[:5])\n",
    "\n",
    "# drop these entries too\n",
    "retail_clean.drop(remaining_entries.index, axis = 0, inplace = True)"
   ]
  },
  {
   "cell_type": "markdown",
   "id": "ultimate-course",
   "metadata": {
    "tags": []
   },
   "source": [
    "##### Cancelled Orders that are discounts and don't belong to any other invoice"
   ]
  },
  {
   "cell_type": "code",
   "execution_count": 23,
   "id": "political-classroom",
   "metadata": {
    "tags": []
   },
   "outputs": [
    {
     "name": "stdout",
     "output_type": "stream",
     "text": [
      "entries to delete: 77\n"
     ]
    },
    {
     "data": {
      "text/html": [
       "<div>\n",
       "<style scoped>\n",
       "    .dataframe tbody tr th:only-of-type {\n",
       "        vertical-align: middle;\n",
       "    }\n",
       "\n",
       "    .dataframe tbody tr th {\n",
       "        vertical-align: top;\n",
       "    }\n",
       "\n",
       "    .dataframe thead th {\n",
       "        text-align: right;\n",
       "    }\n",
       "</style>\n",
       "<table border=\"1\" class=\"dataframe\">\n",
       "  <thead>\n",
       "    <tr style=\"text-align: right;\">\n",
       "      <th></th>\n",
       "      <th>InvoiceNo</th>\n",
       "      <th>StockCode</th>\n",
       "      <th>Description</th>\n",
       "      <th>Quantity</th>\n",
       "      <th>InvoiceDate</th>\n",
       "      <th>UnitPrice</th>\n",
       "      <th>CustomerID</th>\n",
       "      <th>Country</th>\n",
       "      <th>CancelledQuantity</th>\n",
       "    </tr>\n",
       "  </thead>\n",
       "  <tbody>\n",
       "    <tr>\n",
       "      <th>141</th>\n",
       "      <td>C536379</td>\n",
       "      <td>D</td>\n",
       "      <td>Discount</td>\n",
       "      <td>-1</td>\n",
       "      <td>2010-12-01 09:41:00</td>\n",
       "      <td>27.50</td>\n",
       "      <td>14527</td>\n",
       "      <td>United Kingdom</td>\n",
       "      <td>0</td>\n",
       "    </tr>\n",
       "    <tr>\n",
       "      <th>9038</th>\n",
       "      <td>C537164</td>\n",
       "      <td>D</td>\n",
       "      <td>Discount</td>\n",
       "      <td>-1</td>\n",
       "      <td>2010-12-05 13:21:00</td>\n",
       "      <td>29.29</td>\n",
       "      <td>14527</td>\n",
       "      <td>United Kingdom</td>\n",
       "      <td>0</td>\n",
       "    </tr>\n",
       "    <tr>\n",
       "      <th>14498</th>\n",
       "      <td>C537597</td>\n",
       "      <td>D</td>\n",
       "      <td>Discount</td>\n",
       "      <td>-1</td>\n",
       "      <td>2010-12-07 12:34:00</td>\n",
       "      <td>281.00</td>\n",
       "      <td>15498</td>\n",
       "      <td>United Kingdom</td>\n",
       "      <td>0</td>\n",
       "    </tr>\n",
       "    <tr>\n",
       "      <th>19392</th>\n",
       "      <td>C537857</td>\n",
       "      <td>D</td>\n",
       "      <td>Discount</td>\n",
       "      <td>-1</td>\n",
       "      <td>2010-12-08 16:00:00</td>\n",
       "      <td>267.12</td>\n",
       "      <td>17340</td>\n",
       "      <td>United Kingdom</td>\n",
       "      <td>0</td>\n",
       "    </tr>\n",
       "    <tr>\n",
       "      <th>31134</th>\n",
       "      <td>C538897</td>\n",
       "      <td>D</td>\n",
       "      <td>Discount</td>\n",
       "      <td>-1</td>\n",
       "      <td>2010-12-15 09:14:00</td>\n",
       "      <td>5.76</td>\n",
       "      <td>16422</td>\n",
       "      <td>United Kingdom</td>\n",
       "      <td>0</td>\n",
       "    </tr>\n",
       "  </tbody>\n",
       "</table>\n",
       "</div>"
      ],
      "text/plain": [
       "      InvoiceNo StockCode Description  Quantity         InvoiceDate  \\\n",
       "141     C536379         D    Discount        -1 2010-12-01 09:41:00   \n",
       "9038    C537164         D    Discount        -1 2010-12-05 13:21:00   \n",
       "14498   C537597         D    Discount        -1 2010-12-07 12:34:00   \n",
       "19392   C537857         D    Discount        -1 2010-12-08 16:00:00   \n",
       "31134   C538897         D    Discount        -1 2010-12-15 09:14:00   \n",
       "\n",
       "       UnitPrice CustomerID         Country  CancelledQuantity  \n",
       "141        27.50      14527  United Kingdom                  0  \n",
       "9038       29.29      14527  United Kingdom                  0  \n",
       "14498     281.00      15498  United Kingdom                  0  \n",
       "19392     267.12      17340  United Kingdom                  0  \n",
       "31134       5.76      16422  United Kingdom                  0  "
      ]
     },
     "metadata": {},
     "output_type": "display_data"
    }
   ],
   "source": [
    "# cancelled entries that are discounts and don't belong to any invoice (not sure if we should drop these...)\n",
    "remaining_entries = retail_clean[retail_clean['Quantity'] < 0 & retail_clean['InvoiceNo'].str.contains('^[a-zA-Z]+', regex = True)]\n",
    "print('entries to delete: {}'.format(remaining_entries.shape[0]))\n",
    "\n",
    "#\n",
    "display(remaining_entries[:5])\n",
    "\n",
    "# drop these entries too\n",
    "retail_clean.drop(remaining_entries.index, axis = 0, inplace = True)"
   ]
  },
  {
   "cell_type": "markdown",
   "id": "amateur-diversity",
   "metadata": {},
   "source": [
    "#### Check-point Inspection"
   ]
  },
  {
   "cell_type": "markdown",
   "id": "dried-teens",
   "metadata": {
    "tags": []
   },
   "source": [
    "##### Total Price of Purchases"
   ]
  },
  {
   "cell_type": "code",
   "execution_count": 24,
   "id": "mobile-moscow",
   "metadata": {
    "tags": []
   },
   "outputs": [
    {
     "data": {
      "text/html": [
       "<div>\n",
       "<style scoped>\n",
       "    .dataframe tbody tr th:only-of-type {\n",
       "        vertical-align: middle;\n",
       "    }\n",
       "\n",
       "    .dataframe tbody tr th {\n",
       "        vertical-align: top;\n",
       "    }\n",
       "\n",
       "    .dataframe thead th {\n",
       "        text-align: right;\n",
       "    }\n",
       "</style>\n",
       "<table border=\"1\" class=\"dataframe\">\n",
       "  <thead>\n",
       "    <tr style=\"text-align: right;\">\n",
       "      <th></th>\n",
       "      <th>InvoiceNo</th>\n",
       "      <th>StockCode</th>\n",
       "      <th>Description</th>\n",
       "      <th>Quantity</th>\n",
       "      <th>InvoiceDate</th>\n",
       "      <th>UnitPrice</th>\n",
       "      <th>CustomerID</th>\n",
       "      <th>Country</th>\n",
       "      <th>CancelledQuantity</th>\n",
       "      <th>TotalPrice</th>\n",
       "    </tr>\n",
       "  </thead>\n",
       "  <tbody>\n",
       "    <tr>\n",
       "      <th>429003</th>\n",
       "      <td>573511</td>\n",
       "      <td>22131</td>\n",
       "      <td>FOOD CONTAINER SET 3 LOVE HEART</td>\n",
       "      <td>6</td>\n",
       "      <td>2011-10-31 12:25:00</td>\n",
       "      <td>1.95</td>\n",
       "      <td>12347</td>\n",
       "      <td>Iceland</td>\n",
       "      <td>0</td>\n",
       "      <td>11.70</td>\n",
       "    </tr>\n",
       "    <tr>\n",
       "      <th>428957</th>\n",
       "      <td>573511</td>\n",
       "      <td>23480</td>\n",
       "      <td>MINI LIGHTS WOODLAND MUSHROOMS</td>\n",
       "      <td>12</td>\n",
       "      <td>2011-10-31 12:25:00</td>\n",
       "      <td>3.75</td>\n",
       "      <td>12347</td>\n",
       "      <td>Iceland</td>\n",
       "      <td>0</td>\n",
       "      <td>45.00</td>\n",
       "    </tr>\n",
       "    <tr>\n",
       "      <th>535014</th>\n",
       "      <td>581180</td>\n",
       "      <td>23508</td>\n",
       "      <td>MINI PLAYING CARDS DOLLY GIRL</td>\n",
       "      <td>20</td>\n",
       "      <td>2011-12-07 15:52:00</td>\n",
       "      <td>0.42</td>\n",
       "      <td>12347</td>\n",
       "      <td>Iceland</td>\n",
       "      <td>0</td>\n",
       "      <td>8.40</td>\n",
       "    </tr>\n",
       "    <tr>\n",
       "      <th>535013</th>\n",
       "      <td>581180</td>\n",
       "      <td>23506</td>\n",
       "      <td>MINI PLAYING CARDS SPACEBOY</td>\n",
       "      <td>20</td>\n",
       "      <td>2011-12-07 15:52:00</td>\n",
       "      <td>0.42</td>\n",
       "      <td>12347</td>\n",
       "      <td>Iceland</td>\n",
       "      <td>0</td>\n",
       "      <td>8.40</td>\n",
       "    </tr>\n",
       "    <tr>\n",
       "      <th>535012</th>\n",
       "      <td>581180</td>\n",
       "      <td>23271</td>\n",
       "      <td>CHRISTMAS TABLE SILVER CANDLE SPIKE</td>\n",
       "      <td>16</td>\n",
       "      <td>2011-12-07 15:52:00</td>\n",
       "      <td>0.83</td>\n",
       "      <td>12347</td>\n",
       "      <td>Iceland</td>\n",
       "      <td>0</td>\n",
       "      <td>13.28</td>\n",
       "    </tr>\n",
       "  </tbody>\n",
       "</table>\n",
       "</div>"
      ],
      "text/plain": [
       "       InvoiceNo StockCode                          Description  Quantity  \\\n",
       "429003    573511     22131     FOOD CONTAINER SET 3 LOVE HEART          6   \n",
       "428957    573511     23480       MINI LIGHTS WOODLAND MUSHROOMS        12   \n",
       "535014    581180     23508       MINI PLAYING CARDS DOLLY GIRL         20   \n",
       "535013    581180     23506         MINI PLAYING CARDS SPACEBOY         20   \n",
       "535012    581180     23271  CHRISTMAS TABLE SILVER CANDLE SPIKE        16   \n",
       "\n",
       "               InvoiceDate  UnitPrice CustomerID  Country  CancelledQuantity  \\\n",
       "429003 2011-10-31 12:25:00       1.95      12347  Iceland                  0   \n",
       "428957 2011-10-31 12:25:00       3.75      12347  Iceland                  0   \n",
       "535014 2011-12-07 15:52:00       0.42      12347  Iceland                  0   \n",
       "535013 2011-12-07 15:52:00       0.42      12347  Iceland                  0   \n",
       "535012 2011-12-07 15:52:00       0.83      12347  Iceland                  0   \n",
       "\n",
       "        TotalPrice  \n",
       "429003       11.70  \n",
       "428957       45.00  \n",
       "535014        8.40  \n",
       "535013        8.40  \n",
       "535012       13.28  "
      ]
     },
     "execution_count": 24,
     "metadata": {},
     "output_type": "execute_result"
    }
   ],
   "source": [
    "# Calc true total price of purchase\n",
    "# Add a TotalPrice column\n",
    "retail_clean['TotalPrice'] = retail_clean['UnitPrice'] * (retail_clean['Quantity'] - retail_clean['CancelledQuantity'])\n",
    "retail_clean.sort_values('CustomerID')[:5]"
   ]
  },
  {
   "cell_type": "markdown",
   "id": "wanted-employer",
   "metadata": {
    "tags": []
   },
   "source": [
    "##### Drop Negative Entries"
   ]
  },
  {
   "cell_type": "code",
   "execution_count": 25,
   "id": "three-swaziland",
   "metadata": {
    "tags": []
   },
   "outputs": [
    {
     "name": "stdout",
     "output_type": "stream",
     "text": [
      "38 Negative entries to drop.\n"
     ]
    }
   ],
   "source": [
    "# look for entries that are negative and drop them\n",
    "print('{} Negative entries to drop.'.format(len(retail_clean[retail_clean['TotalPrice'] < 0].index)))\n",
    "retail_clean.drop(retail_clean[retail_clean['TotalPrice'] < 0].index, axis = 0, inplace = True)"
   ]
  },
  {
   "cell_type": "markdown",
   "id": "quarterly-thunder",
   "metadata": {},
   "source": [
    "##### Possibly Non-contributing Stock Codes"
   ]
  },
  {
   "cell_type": "code",
   "execution_count": 26,
   "id": "proprietary-camel",
   "metadata": {
    "tags": []
   },
   "outputs": [
    {
     "data": {
      "text/plain": [
       "array(['POST', 'C2', 'M', 'BANK CHARGES', 'PADS', 'DOT'], dtype=object)"
      ]
     },
     "metadata": {},
     "output_type": "display_data"
    },
    {
     "name": "stdout",
     "output_type": "stream",
     "text": [
      "POST            -> POSTAGE                       \n",
      "C2              -> CARRIAGE                      \n",
      "M               -> Manual                        \n",
      "BANK CHARGES    -> Bank Charges                  \n",
      "PADS            -> PADS TO MATCH ALL CUSHIONS    \n",
      "DOT             -> DOTCOM POSTAGE                \n"
     ]
    }
   ],
   "source": [
    "# get list of stock codes\n",
    "stock_code_list = retail_clean[retail_clean['StockCode'].str.contains('^[a-zA-Z]+', regex = True) == True]['StockCode'].unique()\n",
    "display(stock_code_list)\n",
    "#\n",
    "for code in stock_code_list:\n",
    "    print(\"{:<15} -> {:<30}\".format(code, retail_clean[retail_clean['StockCode'] == code]['Description'].unique()[0]))"
   ]
  },
  {
   "cell_type": "markdown",
   "id": "virgin-wrapping",
   "metadata": {},
   "source": [
    "##### Stock Codes with quantity < 0"
   ]
  },
  {
   "cell_type": "code",
   "execution_count": 27,
   "id": "decreased-identification",
   "metadata": {},
   "outputs": [
    {
     "data": {
      "text/plain": [
       "array([], dtype=object)"
      ]
     },
     "metadata": {},
     "output_type": "display_data"
    }
   ],
   "source": [
    "# check for stock codes with quantity < 0 and if stockcode has alpha chars\n",
    "# get list of stock codes\n",
    "#check_stock_code_list = retail_clean[retail_clean['Quantity'] <= 0 & retail_clean['StockCode'].str.contains('^[a-zA-Z]+', regex = True)]['StockCode'].unique()\n",
    "check_stock_code_list = retail_clean[retail_clean['Quantity'] <= 0]['StockCode'].unique()\n",
    "display(check_stock_code_list)\n",
    "#\n",
    "for code in check_stock_code_list:\n",
    "    print(\"{:<15} -> {:<30}\".format(code, retail_clean[retail_clean['StockCode'] == code]['Description'].unique()[0]))"
   ]
  },
  {
   "cell_type": "markdown",
   "id": "alternate-sister",
   "metadata": {},
   "source": [
    "##### Total Cart Price"
   ]
  },
  {
   "cell_type": "code",
   "execution_count": 28,
   "id": "solar-forward",
   "metadata": {},
   "outputs": [
    {
     "data": {
      "text/html": [
       "<div>\n",
       "<style scoped>\n",
       "    .dataframe tbody tr th:only-of-type {\n",
       "        vertical-align: middle;\n",
       "    }\n",
       "\n",
       "    .dataframe tbody tr th {\n",
       "        vertical-align: top;\n",
       "    }\n",
       "\n",
       "    .dataframe thead th {\n",
       "        text-align: right;\n",
       "    }\n",
       "</style>\n",
       "<table border=\"1\" class=\"dataframe\">\n",
       "  <thead>\n",
       "    <tr style=\"text-align: right;\">\n",
       "      <th></th>\n",
       "      <th>CustomerID</th>\n",
       "      <th>InvoiceNo</th>\n",
       "      <th>Cart Price</th>\n",
       "      <th>InvoiceDate</th>\n",
       "    </tr>\n",
       "  </thead>\n",
       "  <tbody>\n",
       "    <tr>\n",
       "      <th>0</th>\n",
       "      <td>12347</td>\n",
       "      <td>537626</td>\n",
       "      <td>711.79</td>\n",
       "      <td>2010-12-07 14:57:00.000001024</td>\n",
       "    </tr>\n",
       "    <tr>\n",
       "      <th>1</th>\n",
       "      <td>12347</td>\n",
       "      <td>542237</td>\n",
       "      <td>475.39</td>\n",
       "      <td>2011-01-26 14:29:59.999999744</td>\n",
       "    </tr>\n",
       "    <tr>\n",
       "      <th>2</th>\n",
       "      <td>12347</td>\n",
       "      <td>549222</td>\n",
       "      <td>636.25</td>\n",
       "      <td>2011-04-07 10:42:59.999999232</td>\n",
       "    </tr>\n",
       "    <tr>\n",
       "      <th>3</th>\n",
       "      <td>12347</td>\n",
       "      <td>556201</td>\n",
       "      <td>382.52</td>\n",
       "      <td>2011-06-09 13:01:00.000000256</td>\n",
       "    </tr>\n",
       "    <tr>\n",
       "      <th>4</th>\n",
       "      <td>12347</td>\n",
       "      <td>562032</td>\n",
       "      <td>584.91</td>\n",
       "      <td>2011-08-02 08:48:00.000000000</td>\n",
       "    </tr>\n",
       "    <tr>\n",
       "      <th>5</th>\n",
       "      <td>12347</td>\n",
       "      <td>573511</td>\n",
       "      <td>1294.32</td>\n",
       "      <td>2011-10-31 12:25:00.000001280</td>\n",
       "    </tr>\n",
       "  </tbody>\n",
       "</table>\n",
       "</div>"
      ],
      "text/plain": [
       "  CustomerID InvoiceNo  Cart Price                   InvoiceDate\n",
       "0      12347    537626      711.79 2010-12-07 14:57:00.000001024\n",
       "1      12347    542237      475.39 2011-01-26 14:29:59.999999744\n",
       "2      12347    549222      636.25 2011-04-07 10:42:59.999999232\n",
       "3      12347    556201      382.52 2011-06-09 13:01:00.000000256\n",
       "4      12347    562032      584.91 2011-08-02 08:48:00.000000000\n",
       "5      12347    573511     1294.32 2011-10-31 12:25:00.000001280"
      ]
     },
     "execution_count": 28,
     "metadata": {},
     "output_type": "execute_result"
    }
   ],
   "source": [
    "# Purchase total by CustomerID, InvoiceNo\n",
    "tmp = retail_clean.groupby(by=['CustomerID', 'InvoiceNo'], as_index=False)['TotalPrice'].sum()\n",
    "cart_price = tmp.rename(columns = {'TotalPrice':'Cart Price'})\n",
    "\n",
    "# Add/Fill purchase dates\n",
    "retail_clean['InvoiceDate_int'] = retail_clean['InvoiceDate'].astype('int64')\n",
    "tmp = retail_clean.groupby(by=['CustomerID', 'InvoiceNo'], as_index=False)['InvoiceDate_int'].mean()\n",
    "retail_clean.drop('InvoiceDate_int', axis = 1, inplace = True)\n",
    "cart_price.loc[:, 'InvoiceDate'] = pd.to_datetime(tmp['InvoiceDate_int'])\n",
    "\n",
    "# Only purchases with positive net value\n",
    "cart_price = cart_price[cart_price['Cart Price'] > 0]\n",
    "cart_price.sort_values('CustomerID')[:6]"
   ]
  },
  {
   "cell_type": "markdown",
   "id": "loving-ensemble",
   "metadata": {},
   "source": [
    "##### Check Total Price < 0"
   ]
  },
  {
   "cell_type": "code",
   "execution_count": 29,
   "id": "important-canvas",
   "metadata": {},
   "outputs": [
    {
     "data": {
      "text/html": [
       "<div>\n",
       "<style scoped>\n",
       "    .dataframe tbody tr th:only-of-type {\n",
       "        vertical-align: middle;\n",
       "    }\n",
       "\n",
       "    .dataframe tbody tr th {\n",
       "        vertical-align: top;\n",
       "    }\n",
       "\n",
       "    .dataframe thead th {\n",
       "        text-align: right;\n",
       "    }\n",
       "</style>\n",
       "<table border=\"1\" class=\"dataframe\">\n",
       "  <thead>\n",
       "    <tr style=\"text-align: right;\">\n",
       "      <th></th>\n",
       "      <th>InvoiceNo</th>\n",
       "      <th>StockCode</th>\n",
       "      <th>Description</th>\n",
       "      <th>Quantity</th>\n",
       "      <th>InvoiceDate</th>\n",
       "      <th>UnitPrice</th>\n",
       "      <th>CustomerID</th>\n",
       "      <th>Country</th>\n",
       "      <th>CancelledQuantity</th>\n",
       "      <th>TotalPrice</th>\n",
       "    </tr>\n",
       "  </thead>\n",
       "  <tbody>\n",
       "  </tbody>\n",
       "</table>\n",
       "</div>"
      ],
      "text/plain": [
       "Empty DataFrame\n",
       "Columns: [InvoiceNo, StockCode, Description, Quantity, InvoiceDate, UnitPrice, CustomerID, Country, CancelledQuantity, TotalPrice]\n",
       "Index: []"
      ]
     },
     "execution_count": 29,
     "metadata": {},
     "output_type": "execute_result"
    }
   ],
   "source": [
    "#retail_clean[retail_clean['InvoiceNo'] == '573077']\n",
    "retail_clean[retail_clean['TotalPrice'] < 0]\n",
    "#retail_clean[retail_clean.index.isin(mismatched_suspect_orders)]"
   ]
  },
  {
   "cell_type": "code",
   "execution_count": 30,
   "id": "global-cement",
   "metadata": {},
   "outputs": [
    {
     "data": {
      "text/html": [
       "<div>\n",
       "<style scoped>\n",
       "    .dataframe tbody tr th:only-of-type {\n",
       "        vertical-align: middle;\n",
       "    }\n",
       "\n",
       "    .dataframe tbody tr th {\n",
       "        vertical-align: top;\n",
       "    }\n",
       "\n",
       "    .dataframe thead th {\n",
       "        text-align: right;\n",
       "    }\n",
       "</style>\n",
       "<table border=\"1\" class=\"dataframe\">\n",
       "  <thead>\n",
       "    <tr style=\"text-align: right;\">\n",
       "      <th></th>\n",
       "      <th>InvoiceNo</th>\n",
       "      <th>StockCode</th>\n",
       "      <th>Description</th>\n",
       "      <th>Quantity</th>\n",
       "      <th>InvoiceDate</th>\n",
       "      <th>UnitPrice</th>\n",
       "      <th>CustomerID</th>\n",
       "      <th>Country</th>\n",
       "      <th>CancelledQuantity</th>\n",
       "      <th>TotalPrice</th>\n",
       "    </tr>\n",
       "  </thead>\n",
       "  <tbody>\n",
       "    <tr>\n",
       "      <th>column type</th>\n",
       "      <td>object</td>\n",
       "      <td>object</td>\n",
       "      <td>object</td>\n",
       "      <td>int64</td>\n",
       "      <td>datetime64[ns]</td>\n",
       "      <td>float64</td>\n",
       "      <td>object</td>\n",
       "      <td>object</td>\n",
       "      <td>int64</td>\n",
       "      <td>float64</td>\n",
       "    </tr>\n",
       "    <tr>\n",
       "      <th>null values (nb)</th>\n",
       "      <td>0</td>\n",
       "      <td>0</td>\n",
       "      <td>0</td>\n",
       "      <td>0</td>\n",
       "      <td>0</td>\n",
       "      <td>0</td>\n",
       "      <td>0</td>\n",
       "      <td>0</td>\n",
       "      <td>0</td>\n",
       "      <td>0</td>\n",
       "    </tr>\n",
       "    <tr>\n",
       "      <th>null values (%)</th>\n",
       "      <td>0.0</td>\n",
       "      <td>0.0</td>\n",
       "      <td>0.0</td>\n",
       "      <td>0.0</td>\n",
       "      <td>0.0</td>\n",
       "      <td>0.0</td>\n",
       "      <td>0.0</td>\n",
       "      <td>0.0</td>\n",
       "      <td>0.0</td>\n",
       "      <td>0.0</td>\n",
       "    </tr>\n",
       "  </tbody>\n",
       "</table>\n",
       "</div>"
      ],
      "text/plain": [
       "                 InvoiceNo StockCode Description Quantity     InvoiceDate  \\\n",
       "column type         object    object      object    int64  datetime64[ns]   \n",
       "null values (nb)         0         0           0        0               0   \n",
       "null values (%)        0.0       0.0         0.0      0.0             0.0   \n",
       "\n",
       "                 UnitPrice CustomerID Country CancelledQuantity TotalPrice  \n",
       "column type        float64     object  object             int64    float64  \n",
       "null values (nb)         0          0       0                 0          0  \n",
       "null values (%)        0.0        0.0     0.0               0.0        0.0  "
      ]
     },
     "metadata": {},
     "output_type": "display_data"
    },
    {
     "data": {
      "text/html": [
       "<div>\n",
       "<style scoped>\n",
       "    .dataframe tbody tr th:only-of-type {\n",
       "        vertical-align: middle;\n",
       "    }\n",
       "\n",
       "    .dataframe tbody tr th {\n",
       "        vertical-align: top;\n",
       "    }\n",
       "\n",
       "    .dataframe thead th {\n",
       "        text-align: right;\n",
       "    }\n",
       "</style>\n",
       "<table border=\"1\" class=\"dataframe\">\n",
       "  <thead>\n",
       "    <tr style=\"text-align: right;\">\n",
       "      <th></th>\n",
       "      <th>InvoiceNo</th>\n",
       "      <th>StockCode</th>\n",
       "      <th>Description</th>\n",
       "      <th>Quantity</th>\n",
       "      <th>InvoiceDate</th>\n",
       "      <th>UnitPrice</th>\n",
       "      <th>CustomerID</th>\n",
       "      <th>Country</th>\n",
       "      <th>CancelledQuantity</th>\n",
       "      <th>TotalPrice</th>\n",
       "    </tr>\n",
       "  </thead>\n",
       "  <tbody>\n",
       "    <tr>\n",
       "      <th>427093</th>\n",
       "      <td>573375</td>\n",
       "      <td>23255</td>\n",
       "      <td>CHILDRENS CUTLERY CIRCUS PARADE</td>\n",
       "      <td>4</td>\n",
       "      <td>2011-10-30 13:42:00</td>\n",
       "      <td>4.15</td>\n",
       "      <td>15521</td>\n",
       "      <td>United Kingdom</td>\n",
       "      <td>0</td>\n",
       "      <td>16.60</td>\n",
       "    </tr>\n",
       "    <tr>\n",
       "      <th>502941</th>\n",
       "      <td>578854</td>\n",
       "      <td>22411</td>\n",
       "      <td>JUMBO SHOPPER VINTAGE RED PAISLEY</td>\n",
       "      <td>10</td>\n",
       "      <td>2011-11-27 11:15:00</td>\n",
       "      <td>2.08</td>\n",
       "      <td>14859</td>\n",
       "      <td>United Kingdom</td>\n",
       "      <td>0</td>\n",
       "      <td>20.80</td>\n",
       "    </tr>\n",
       "    <tr>\n",
       "      <th>328481</th>\n",
       "      <td>565779</td>\n",
       "      <td>22727</td>\n",
       "      <td>ALARM CLOCK BAKELIKE RED</td>\n",
       "      <td>4</td>\n",
       "      <td>2011-09-06 15:14:00</td>\n",
       "      <td>3.75</td>\n",
       "      <td>15804</td>\n",
       "      <td>United Kingdom</td>\n",
       "      <td>0</td>\n",
       "      <td>15.00</td>\n",
       "    </tr>\n",
       "    <tr>\n",
       "      <th>131738</th>\n",
       "      <td>547623</td>\n",
       "      <td>22979</td>\n",
       "      <td>PANTRY WASHING UP BRUSH</td>\n",
       "      <td>12</td>\n",
       "      <td>2011-03-24 11:29:00</td>\n",
       "      <td>1.45</td>\n",
       "      <td>15641</td>\n",
       "      <td>United Kingdom</td>\n",
       "      <td>0</td>\n",
       "      <td>17.40</td>\n",
       "    </tr>\n",
       "    <tr>\n",
       "      <th>229729</th>\n",
       "      <td>557109</td>\n",
       "      <td>21137</td>\n",
       "      <td>BLACK RECORD COVER FRAME</td>\n",
       "      <td>72</td>\n",
       "      <td>2011-06-16 16:06:00</td>\n",
       "      <td>3.39</td>\n",
       "      <td>15694</td>\n",
       "      <td>United Kingdom</td>\n",
       "      <td>0</td>\n",
       "      <td>244.08</td>\n",
       "    </tr>\n",
       "  </tbody>\n",
       "</table>\n",
       "</div>"
      ],
      "text/plain": [
       "       InvoiceNo StockCode                        Description  Quantity  \\\n",
       "427093    573375     23255    CHILDRENS CUTLERY CIRCUS PARADE         4   \n",
       "502941    578854     22411  JUMBO SHOPPER VINTAGE RED PAISLEY        10   \n",
       "328481    565779     22727          ALARM CLOCK BAKELIKE RED          4   \n",
       "131738    547623     22979            PANTRY WASHING UP BRUSH        12   \n",
       "229729    557109     21137           BLACK RECORD COVER FRAME        72   \n",
       "\n",
       "               InvoiceDate  UnitPrice CustomerID         Country  \\\n",
       "427093 2011-10-30 13:42:00       4.15      15521  United Kingdom   \n",
       "502941 2011-11-27 11:15:00       2.08      14859  United Kingdom   \n",
       "328481 2011-09-06 15:14:00       3.75      15804  United Kingdom   \n",
       "131738 2011-03-24 11:29:00       1.45      15641  United Kingdom   \n",
       "229729 2011-06-16 16:06:00       3.39      15694  United Kingdom   \n",
       "\n",
       "        CancelledQuantity  TotalPrice  \n",
       "427093                  0       16.60  \n",
       "502941                  0       20.80  \n",
       "328481                  0       15.00  \n",
       "131738                  0       17.40  \n",
       "229729                  0      244.08  "
      ]
     },
     "metadata": {},
     "output_type": "display_data"
    },
    {
     "name": "stdout",
     "output_type": "stream",
     "text": [
      "(390453, 10)\n"
     ]
    },
    {
     "data": {
      "text/plain": [
       "<AxesSubplot:>"
      ]
     },
     "execution_count": 30,
     "metadata": {},
     "output_type": "execute_result"
    },
    {
     "data": {
      "image/png": "[encoded data removed]",
      "text/plain": [
       "<Figure size 432x288 with 1 Axes>"
      ]
     },
     "metadata": {
      "needs_background": "light"
     },
     "output_type": "display_data"
    }
   ],
   "source": [
    "display_info(retail_clean)\n",
    "retail_clean.plot()"
   ]
  },
  {
   "cell_type": "markdown",
   "id": "other-drawing",
   "metadata": {},
   "source": [
    "##### Save"
   ]
  },
  {
   "cell_type": "code",
   "execution_count": null,
   "id": "driving-cycle",
   "metadata": {},
   "outputs": [],
   "source": [
    "writer = pd.ExcelWriter('online_retail_normalized.xlsx', engine='xlsxwriter')\n",
    "retail_clean.to_excel(writer, sheet_name='Sheet1', index = False)\n",
    "writer.save()"
   ]
  },
  {
   "cell_type": "code",
   "execution_count": null,
   "id": "intensive-luther",
   "metadata": {},
   "outputs": [],
   "source": []
  }
 ],
 "metadata": {
  "kernelspec": {
   "display_name": "Python 3",
   "language": "python",
   "name": "python3"
  },
  "language_info": {
   "codemirror_mode": {
    "name": "ipython",
    "version": 3
   },
   "file_extension": ".py",
   "mimetype": "text/x-python",
   "name": "python",
   "nbconvert_exporter": "python",
   "pygments_lexer": "ipython3",
   "version": "3.8.8"
  }
 },
 "nbformat": 4,
 "nbformat_minor": 5
}
